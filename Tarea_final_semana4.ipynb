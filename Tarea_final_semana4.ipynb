{
 "cells": [
  {
   "cell_type": "markdown",
   "id": "beaa3de4",
   "metadata": {},
   "source": [
    "# My Jupyter Notebook on IBM Watson Studio"
   ]
  },
  {
   "cell_type": "markdown",
   "id": "18461535",
   "metadata": {},
   "source": [
    "**DAVID ANDRÉS FRANCO QUINTERO**\n",
    "\n",
    "Abogado, aprendiz de ciencia de datos"
   ]
  },
  {
   "cell_type": "markdown",
   "id": "1dcf978a",
   "metadata": {},
   "source": [
    "*Estoy interesado en la Data Science porque... se que con ella podré desarrollar aplicaciones a diferentes campos de la industria y sé que en un futuro será supremamente útil para tomar decisiones.*"
   ]
  },
  {
   "cell_type": "markdown",
   "id": "34e68cae",
   "metadata": {},
   "source": [
    "### El código que sigue deberá sumar 1 + 1"
   ]
  },
  {
   "cell_type": "code",
   "execution_count": 1,
   "id": "adea6527",
   "metadata": {},
   "outputs": [
    {
     "data": {
      "text/plain": [
       "2"
      ]
     },
     "execution_count": 1,
     "metadata": {},
     "output_type": "execute_result"
    }
   ],
   "source": [
    "1+1"
   ]
  },
  {
   "cell_type": "markdown",
   "id": "25674911",
   "metadata": {},
   "source": [
    "### Las demás cosas que se piden:\n",
    "\n",
    "___\n",
    "* Elemento uno\n",
    "* Elemento dos\n",
    "* Elemento tres\n",
    "\n",
    "1. Elemento uno\n",
    "2. Elemento dos\n",
    "3. Elemento tres\n",
    "\n",
    "> \"Solo sé que nada sé - Atribuida a Socrátes\n",
    "\n",
    "`Lo que se ve aquí está en resaltado de código`\n",
    "\n",
    "Vamos a poner una nota referencia externa [1]\n",
    "\n",
    "[1]: https://www.worldometers.info/es/"
   ]
  }
 ],
 "metadata": {
  "kernelspec": {
   "display_name": "Python 3",
   "language": "python",
   "name": "python3"
  },
  "language_info": {
   "codemirror_mode": {
    "name": "ipython",
    "version": 3
   },
   "file_extension": ".py",
   "mimetype": "text/x-python",
   "name": "python",
   "nbconvert_exporter": "python",
   "pygments_lexer": "ipython3",
   "version": "3.8.8"
  }
 },
 "nbformat": 4,
 "nbformat_minor": 5
}
